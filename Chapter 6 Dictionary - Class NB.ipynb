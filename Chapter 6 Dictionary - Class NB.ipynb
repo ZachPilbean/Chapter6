{
 "cells": [
  {
   "cell_type": "markdown",
   "id": "73943399",
   "metadata": {},
   "source": [
    "# 6. Working with Dictionaries\n",
    "* A dictionary in Python is a collection of key-value pairs. \n",
    "* Each key is connected to a value, and you can use a key to access the value associated with that key.\n",
    "* A key’s value can be a number, a string, a list, or even another dictionary.\n",
    "\n",
    "* `Key` is the unique identifier to find data and the `value` is the data\n",
    "\n",
    "* A dictionary is a collection which is ordered*, changeable and does not allow duplicates.\n",
    "\n",
    "* Unlike strings, lists, and tuples, **dictionaries are not sequences** - the data are not stored in order. \n",
    "* List can be represented by [ ], Tuple can be represented by ( ), Dictionary  can be represented by { }"
   ]
  },
  {
   "cell_type": "code",
   "execution_count": 7,
   "id": "05999d3a",
   "metadata": {},
   "outputs": [
    {
     "data": {
      "text/plain": [
       "dict"
      ]
     },
     "execution_count": 7,
     "metadata": {},
     "output_type": "execute_result"
    }
   ],
   "source": [
    "data={}\n",
    "type(data)"
   ]
  },
  {
   "cell_type": "code",
   "execution_count": 8,
   "id": "88e3e9ba",
   "metadata": {},
   "outputs": [
    {
     "data": {
      "text/plain": [
       "dict"
      ]
     },
     "execution_count": 8,
     "metadata": {},
     "output_type": "execute_result"
    }
   ],
   "source": [
    "data1=dict()\n",
    "type(data1)"
   ]
  },
  {
   "cell_type": "code",
   "execution_count": 9,
   "id": "5d25b2cb",
   "metadata": {},
   "outputs": [
    {
     "name": "stdout",
     "output_type": "stream",
     "text": [
      "{'Alabama': 'Montgomery', 'Arizona': 'Phoenix', 'Georgia': 'Atlanta', 'Kentucky': 'Frankfort', 'Ohio': 'Salem'}\n"
     ]
    }
   ],
   "source": [
    "data={'Alabama': 'Montgomery', \n",
    "      'Arizona': 'Phoenix', \n",
    "      'Georgia': 'Atlanta', \n",
    "      'Kentucky': 'Frankfort', \n",
    "      'Ohio': 'Salem'}\n",
    "print(data)"
   ]
  },
  {
   "cell_type": "code",
   "execution_count": 10,
   "id": "f42bb2bc",
   "metadata": {},
   "outputs": [
    {
     "data": {
      "text/plain": [
       "'Montgomery'"
      ]
     },
     "execution_count": 10,
     "metadata": {},
     "output_type": "execute_result"
    }
   ],
   "source": [
    "data['Alabama'] # Access values by typing in keys"
   ]
  },
  {
   "cell_type": "code",
   "execution_count": 11,
   "id": "75dd3798",
   "metadata": {},
   "outputs": [
    {
     "data": {
      "text/plain": [
       "'Salem'"
      ]
     },
     "execution_count": 11,
     "metadata": {},
     "output_type": "execute_result"
    }
   ],
   "source": [
    "data['Ohio']"
   ]
  },
  {
   "cell_type": "code",
   "execution_count": 12,
   "id": "c200a9f4",
   "metadata": {},
   "outputs": [
    {
     "ename": "KeyError",
     "evalue": "'Louisiana'",
     "output_type": "error",
     "traceback": [
      "\u001b[1;31m---------------------------------------------------------------------------\u001b[0m",
      "\u001b[1;31mKeyError\u001b[0m                                  Traceback (most recent call last)",
      "Input \u001b[1;32mIn [12]\u001b[0m, in \u001b[0;36m<cell line: 1>\u001b[1;34m()\u001b[0m\n\u001b[1;32m----> 1\u001b[0m \u001b[43mdata\u001b[49m\u001b[43m[\u001b[49m\u001b[38;5;124;43m'\u001b[39;49m\u001b[38;5;124;43mLouisiana\u001b[39;49m\u001b[38;5;124;43m'\u001b[39;49m\u001b[43m]\u001b[49m\n",
      "\u001b[1;31mKeyError\u001b[0m: 'Louisiana'"
     ]
    }
   ],
   "source": [
    "data['Louisiana']"
   ]
  },
  {
   "cell_type": "code",
   "execution_count": 13,
   "id": "745597cf",
   "metadata": {},
   "outputs": [
    {
     "name": "stdout",
     "output_type": "stream",
     "text": [
      "{1: 'Monday', 2: 'Tuesday', 4: ('Thursday', 'Friday'), 5: ['Saturday', 'Holiday']}\n"
     ]
    }
   ],
   "source": [
    "Days={1: 'Monday', \n",
    "      2: 'Tuesday',\n",
    "      4: ('Thursday', 'Friday'),\n",
    "      5: ['Saturday', 'Holiday']}\n",
    "print(Days)"
   ]
  },
  {
   "cell_type": "code",
   "execution_count": 14,
   "id": "32f3fd22",
   "metadata": {},
   "outputs": [
    {
     "data": {
      "text/plain": [
       "'Thursday'"
      ]
     },
     "execution_count": 14,
     "metadata": {},
     "output_type": "execute_result"
    }
   ],
   "source": [
    "Days[4][0]"
   ]
  },
  {
   "cell_type": "code",
   "execution_count": 15,
   "id": "a7e3a964",
   "metadata": {},
   "outputs": [
    {
     "data": {
      "text/plain": [
       "'Holiday'"
      ]
     },
     "execution_count": 15,
     "metadata": {},
     "output_type": "execute_result"
    }
   ],
   "source": [
    "Days[5][1]"
   ]
  },
  {
   "cell_type": "code",
   "execution_count": 16,
   "id": "88b0dada",
   "metadata": {},
   "outputs": [
    {
     "data": {
      "text/plain": [
       "'Tuesday'"
      ]
     },
     "execution_count": 16,
     "metadata": {},
     "output_type": "execute_result"
    }
   ],
   "source": [
    "Days[2]"
   ]
  },
  {
   "cell_type": "markdown",
   "id": "4be8c616",
   "metadata": {},
   "source": [
    "### Access `values` from a dictionary using key\n",
    "* Key and values can be any data types\n",
    "* Accessing key value not present in dictionary generated KeyError"
   ]
  },
  {
   "cell_type": "code",
   "execution_count": 17,
   "id": "aab3f949",
   "metadata": {},
   "outputs": [
    {
     "data": {
      "text/plain": [
       "{1: 'Monday',\n",
       " 2: 'Tuesday',\n",
       " 4: ('Thursday', 'Friday'),\n",
       " 5: ['Saturday', 'Holiday']}"
      ]
     },
     "execution_count": 17,
     "metadata": {},
     "output_type": "execute_result"
    }
   ],
   "source": [
    "Days"
   ]
  },
  {
   "cell_type": "code",
   "execution_count": 18,
   "id": "fe9e3886",
   "metadata": {},
   "outputs": [
    {
     "data": {
      "text/plain": [
       "'Thursday'"
      ]
     },
     "execution_count": 18,
     "metadata": {},
     "output_type": "execute_result"
    }
   ],
   "source": [
    "Days[4][0]"
   ]
  },
  {
   "cell_type": "code",
   "execution_count": 19,
   "id": "e4eb565d",
   "metadata": {},
   "outputs": [
    {
     "data": {
      "text/plain": [
       "'Holiday'"
      ]
     },
     "execution_count": 19,
     "metadata": {},
     "output_type": "execute_result"
    }
   ],
   "source": [
    "Days[5][1]"
   ]
  },
  {
   "cell_type": "code",
   "execution_count": 20,
   "id": "c7dae653",
   "metadata": {},
   "outputs": [
    {
     "data": {
      "text/plain": [
       "'Tuesday'"
      ]
     },
     "execution_count": 20,
     "metadata": {},
     "output_type": "execute_result"
    }
   ],
   "source": [
    "Days[2]"
   ]
  },
  {
   "cell_type": "markdown",
   "id": "bc6af6fc",
   "metadata": {},
   "source": [
    "### Update elements of a dictionary and add new elements"
   ]
  },
  {
   "cell_type": "code",
   "execution_count": 21,
   "id": "f62f227f",
   "metadata": {},
   "outputs": [
    {
     "data": {
      "text/plain": [
       "{1: 'Monday',\n",
       " 2: 'Tuesday',\n",
       " 4: ('Thursday', 'Friday'),\n",
       " 5: ['Saturday', 'Holiday']}"
      ]
     },
     "execution_count": 21,
     "metadata": {},
     "output_type": "execute_result"
    }
   ],
   "source": [
    "Days"
   ]
  },
  {
   "cell_type": "code",
   "execution_count": 22,
   "id": "560dd19f",
   "metadata": {},
   "outputs": [
    {
     "data": {
      "text/plain": [
       "{1: 'Monday',\n",
       " 2: 'Tuesday',\n",
       " 4: ('Thursday', 'Friday'),\n",
       " 5: ['Holiday', 'Holiday']}"
      ]
     },
     "execution_count": 22,
     "metadata": {},
     "output_type": "execute_result"
    }
   ],
   "source": [
    "Days[5][0]='Holiday'\n",
    "Days"
   ]
  },
  {
   "cell_type": "code",
   "execution_count": 23,
   "id": "7f07b100",
   "metadata": {},
   "outputs": [
    {
     "data": {
      "text/plain": [
       "{1: 'Holiday',\n",
       " 2: 'Tuesday',\n",
       " 4: ('Thursday', 'Friday'),\n",
       " 5: ['Holiday', 'Holiday']}"
      ]
     },
     "execution_count": 23,
     "metadata": {},
     "output_type": "execute_result"
    }
   ],
   "source": [
    "Days[1]='Holiday'\n",
    "Days"
   ]
  },
  {
   "cell_type": "code",
   "execution_count": 24,
   "id": "e30ad316",
   "metadata": {},
   "outputs": [
    {
     "data": {
      "text/plain": [
       "{1: 'Holiday',\n",
       " 2: 'Tuesday',\n",
       " 4: ('Thursday', 'Friday'),\n",
       " 5: ['Holiday', 'Holiday'],\n",
       " 3: 'Wednesday'}"
      ]
     },
     "execution_count": 24,
     "metadata": {},
     "output_type": "execute_result"
    }
   ],
   "source": [
    "Days[3]='Wednesday'\n",
    "Days"
   ]
  },
  {
   "cell_type": "code",
   "execution_count": 25,
   "id": "73f1126b",
   "metadata": {},
   "outputs": [
    {
     "data": {
      "text/plain": [
       "{1: 'Holiday',\n",
       " 2: 'Tuesday',\n",
       " 4: ('Thursday', 'Friday'),\n",
       " 5: ['Holiday', 'Holiday'],\n",
       " 3: 'Wednesday',\n",
       " 6: ['XYZ', 'ABC']}"
      ]
     },
     "execution_count": 25,
     "metadata": {},
     "output_type": "execute_result"
    }
   ],
   "source": [
    "Days[6]=['XYZ','ABC']\n",
    "Days"
   ]
  },
  {
   "cell_type": "markdown",
   "id": "f7bb990f",
   "metadata": {},
   "source": [
    "### `get` and `update` methods"
   ]
  },
  {
   "cell_type": "code",
   "execution_count": 26,
   "id": "071c6f12",
   "metadata": {},
   "outputs": [
    {
     "data": {
      "text/plain": [
       "['__class__',\n",
       " '__class_getitem__',\n",
       " '__contains__',\n",
       " '__delattr__',\n",
       " '__delitem__',\n",
       " '__dir__',\n",
       " '__doc__',\n",
       " '__eq__',\n",
       " '__format__',\n",
       " '__ge__',\n",
       " '__getattribute__',\n",
       " '__getitem__',\n",
       " '__gt__',\n",
       " '__hash__',\n",
       " '__init__',\n",
       " '__init_subclass__',\n",
       " '__ior__',\n",
       " '__iter__',\n",
       " '__le__',\n",
       " '__len__',\n",
       " '__lt__',\n",
       " '__ne__',\n",
       " '__new__',\n",
       " '__or__',\n",
       " '__reduce__',\n",
       " '__reduce_ex__',\n",
       " '__repr__',\n",
       " '__reversed__',\n",
       " '__ror__',\n",
       " '__setattr__',\n",
       " '__setitem__',\n",
       " '__sizeof__',\n",
       " '__str__',\n",
       " '__subclasshook__',\n",
       " 'clear',\n",
       " 'copy',\n",
       " 'fromkeys',\n",
       " 'get',\n",
       " 'items',\n",
       " 'keys',\n",
       " 'pop',\n",
       " 'popitem',\n",
       " 'setdefault',\n",
       " 'update',\n",
       " 'values']"
      ]
     },
     "execution_count": 26,
     "metadata": {},
     "output_type": "execute_result"
    }
   ],
   "source": [
    "dir({})"
   ]
  },
  {
   "cell_type": "code",
   "execution_count": 27,
   "id": "10cd3add",
   "metadata": {},
   "outputs": [
    {
     "data": {
      "text/plain": [
       "{'Alabama': 'Montgomery',\n",
       " 'Arizona': 'Phoenix',\n",
       " 'Georgia': 'Atlanta',\n",
       " 'Kentucky': 'Frankfort',\n",
       " 'Ohio': 'Salem'}"
      ]
     },
     "execution_count": 27,
     "metadata": {},
     "output_type": "execute_result"
    }
   ],
   "source": [
    "data"
   ]
  },
  {
   "cell_type": "code",
   "execution_count": 28,
   "id": "afdf81cb",
   "metadata": {},
   "outputs": [
    {
     "data": {
      "text/plain": [
       "'Montgomery'"
      ]
     },
     "execution_count": 28,
     "metadata": {},
     "output_type": "execute_result"
    }
   ],
   "source": [
    "#Access an element using .get method\n",
    "data.get('Alabama')"
   ]
  },
  {
   "cell_type": "code",
   "execution_count": 29,
   "id": "c99acf1a",
   "metadata": {},
   "outputs": [
    {
     "data": {
      "text/plain": [
       "'Salem'"
      ]
     },
     "execution_count": 29,
     "metadata": {},
     "output_type": "execute_result"
    }
   ],
   "source": [
    "data.get('Ohio')"
   ]
  },
  {
   "cell_type": "code",
   "execution_count": 30,
   "id": "50148ae5",
   "metadata": {},
   "outputs": [
    {
     "name": "stdout",
     "output_type": "stream",
     "text": [
      "None\n"
     ]
    }
   ],
   "source": [
    "print(data.get('Louisiana'))"
   ]
  },
  {
   "cell_type": "code",
   "execution_count": 31,
   "id": "23ee5b83",
   "metadata": {},
   "outputs": [
    {
     "data": {
      "text/plain": [
       "{'Alabama': 'Montgomery',\n",
       " 'Arizona': 'Phoenix',\n",
       " 'Georgia': 'Atlanta',\n",
       " 'Kentucky': 'Frankfort',\n",
       " 'Ohio': 'Salem'}"
      ]
     },
     "execution_count": 31,
     "metadata": {},
     "output_type": "execute_result"
    }
   ],
   "source": [
    "# Update a dictionary\n",
    "data"
   ]
  },
  {
   "cell_type": "code",
   "execution_count": 32,
   "id": "310a123a",
   "metadata": {},
   "outputs": [
    {
     "data": {
      "text/plain": [
       "{'Alabama': 'Montgomery',\n",
       " 'Arizona': 'Phoenix',\n",
       " 'Georgia': 'Atlanta',\n",
       " 'Kentucky': 'Louisville',\n",
       " 'Ohio': 'Salem',\n",
       " 'Louisiana': 'Baton Rouge'}"
      ]
     },
     "execution_count": 32,
     "metadata": {},
     "output_type": "execute_result"
    }
   ],
   "source": [
    "data.update({'Kentucky': 'Louisville', 'Louisiana': 'Baton Rouge'})\n",
    "data"
   ]
  },
  {
   "cell_type": "markdown",
   "id": "18536626",
   "metadata": {},
   "source": [
    "### Delete dictionary items using `del` and `pop`"
   ]
  },
  {
   "cell_type": "code",
   "execution_count": 33,
   "id": "ebc3b904",
   "metadata": {},
   "outputs": [
    {
     "data": {
      "text/plain": [
       "{'Alabama': 'Montgomery',\n",
       " 'Arizona': 'Phoenix',\n",
       " 'Georgia': 'Atlanta',\n",
       " 'Kentucky': 'Louisville',\n",
       " 'Ohio': 'Salem',\n",
       " 'Louisiana': 'Baton Rouge'}"
      ]
     },
     "execution_count": 33,
     "metadata": {},
     "output_type": "execute_result"
    }
   ],
   "source": [
    "data"
   ]
  },
  {
   "cell_type": "code",
   "execution_count": 34,
   "id": "fc64b2ed",
   "metadata": {},
   "outputs": [
    {
     "name": "stdout",
     "output_type": "stream",
     "text": [
      "{'Arizona': 'Phoenix', 'Georgia': 'Atlanta', 'Kentucky': 'Louisville', 'Ohio': 'Salem', 'Louisiana': 'Baton Rouge'}\n"
     ]
    }
   ],
   "source": [
    "del data['Alabama']\n",
    "print(data)"
   ]
  },
  {
   "cell_type": "code",
   "execution_count": 35,
   "id": "e3993e4c",
   "metadata": {},
   "outputs": [
    {
     "data": {
      "text/plain": [
       "{'Arizona': 'Phoenix',\n",
       " 'Georgia': 'Atlanta',\n",
       " 'Kentucky': 'Louisville',\n",
       " 'Louisiana': 'Baton Rouge'}"
      ]
     },
     "execution_count": 35,
     "metadata": {},
     "output_type": "execute_result"
    }
   ],
   "source": [
    "del data['Ohio']\n",
    "data"
   ]
  },
  {
   "cell_type": "code",
   "execution_count": 36,
   "id": "e0787029",
   "metadata": {},
   "outputs": [
    {
     "data": {
      "text/plain": [
       "{'Georgia': 'Atlanta', 'Kentucky': 'Louisville', 'Louisiana': 'Baton Rouge'}"
      ]
     },
     "execution_count": 36,
     "metadata": {},
     "output_type": "execute_result"
    }
   ],
   "source": [
    "data.pop('Arizona')\n",
    "data"
   ]
  },
  {
   "cell_type": "code",
   "execution_count": 37,
   "id": "71941c04",
   "metadata": {},
   "outputs": [
    {
     "data": {
      "text/plain": [
       "'Louisville'"
      ]
     },
     "execution_count": 37,
     "metadata": {},
     "output_type": "execute_result"
    }
   ],
   "source": [
    "data.pop('Kentucky')"
   ]
  },
  {
   "cell_type": "code",
   "execution_count": 38,
   "id": "5e66a7e9",
   "metadata": {},
   "outputs": [
    {
     "name": "stdout",
     "output_type": "stream",
     "text": [
      "{'Georgia': 'Atlanta', 'Louisiana': 'Baton Rouge'}\n"
     ]
    }
   ],
   "source": [
    "print(data)"
   ]
  },
  {
   "cell_type": "markdown",
   "id": "610aae76",
   "metadata": {},
   "source": [
    "### Number of elements in the dictionary and extracting `keys()`, `values()`, `items()`"
   ]
  },
  {
   "cell_type": "code",
   "execution_count": 39,
   "id": "f13bd3ba",
   "metadata": {},
   "outputs": [
    {
     "data": {
      "text/plain": [
       "{'Georgia': 'Atlanta', 'Louisiana': 'Baton Rouge'}"
      ]
     },
     "execution_count": 39,
     "metadata": {},
     "output_type": "execute_result"
    }
   ],
   "source": [
    "data"
   ]
  },
  {
   "cell_type": "code",
   "execution_count": 40,
   "id": "1d31365f",
   "metadata": {},
   "outputs": [
    {
     "data": {
      "text/plain": [
       "2"
      ]
     },
     "execution_count": 40,
     "metadata": {},
     "output_type": "execute_result"
    }
   ],
   "source": [
    "len(data)"
   ]
  },
  {
   "cell_type": "code",
   "execution_count": 41,
   "id": "0db183c4",
   "metadata": {},
   "outputs": [
    {
     "data": {
      "text/plain": [
       "dict_keys(['Georgia', 'Louisiana'])"
      ]
     },
     "execution_count": 41,
     "metadata": {},
     "output_type": "execute_result"
    }
   ],
   "source": [
    "data.keys() # The keys from the dictionary"
   ]
  },
  {
   "cell_type": "code",
   "execution_count": 42,
   "id": "a1c19204",
   "metadata": {},
   "outputs": [
    {
     "data": {
      "text/plain": [
       "dict_values(['Atlanta', 'Baton Rouge'])"
      ]
     },
     "execution_count": 42,
     "metadata": {},
     "output_type": "execute_result"
    }
   ],
   "source": [
    "data.values() # The values from the dictionary"
   ]
  },
  {
   "cell_type": "code",
   "execution_count": 43,
   "id": "0ffb1ea6",
   "metadata": {},
   "outputs": [
    {
     "data": {
      "text/plain": [
       "dict_items([('Georgia', 'Atlanta'), ('Louisiana', 'Baton Rouge')])"
      ]
     },
     "execution_count": 43,
     "metadata": {},
     "output_type": "execute_result"
    }
   ],
   "source": [
    "data.items()"
   ]
  },
  {
   "cell_type": "markdown",
   "id": "ab9e78f2",
   "metadata": {},
   "source": [
    "### Loop through a dictionary"
   ]
  },
  {
   "cell_type": "code",
   "execution_count": 44,
   "id": "941bf04e",
   "metadata": {
    "scrolled": true
   },
   "outputs": [
    {
     "data": {
      "text/plain": [
       "{'Georgia': 'Atlanta', 'Louisiana': 'Baton Rouge'}"
      ]
     },
     "execution_count": 44,
     "metadata": {},
     "output_type": "execute_result"
    }
   ],
   "source": [
    "data"
   ]
  },
  {
   "cell_type": "code",
   "execution_count": 45,
   "id": "fe239e39",
   "metadata": {},
   "outputs": [
    {
     "name": "stdout",
     "output_type": "stream",
     "text": [
      "<class 'str'>\n",
      "Georgia\n",
      "<class 'str'>\n",
      "Louisiana\n"
     ]
    }
   ],
   "source": [
    "for key in data.keys():\n",
    "    print(type(key))\n",
    "    print(key)"
   ]
  },
  {
   "cell_type": "code",
   "execution_count": 46,
   "id": "c0746d46",
   "metadata": {},
   "outputs": [
    {
     "name": "stdout",
     "output_type": "stream",
     "text": [
      "Atlanta\n",
      "<class 'str'>\n",
      "Baton Rouge\n",
      "<class 'str'>\n"
     ]
    }
   ],
   "source": [
    "for value in data.values():\n",
    "    print(value)\n",
    "    print(type(value))"
   ]
  },
  {
   "cell_type": "code",
   "execution_count": 47,
   "id": "e07995b1",
   "metadata": {},
   "outputs": [
    {
     "name": "stdout",
     "output_type": "stream",
     "text": [
      "('Georgia', 'Atlanta')\n",
      "<class 'tuple'>\n",
      "('Louisiana', 'Baton Rouge')\n",
      "<class 'tuple'>\n"
     ]
    }
   ],
   "source": [
    "for item in data.items():\n",
    "    print(item)\n",
    "    print(type(item))"
   ]
  },
  {
   "cell_type": "code",
   "execution_count": 48,
   "id": "e9bff285",
   "metadata": {},
   "outputs": [
    {
     "name": "stdout",
     "output_type": "stream",
     "text": [
      "Georgia Atlanta\n",
      "<class 'str'> <class 'str'>\n",
      "State Names Georgia\n",
      "Capitol Names Atlanta\n",
      "Louisiana Baton Rouge\n",
      "<class 'str'> <class 'str'>\n",
      "State Names Louisiana\n",
      "Capitol Names Baton Rouge\n"
     ]
    }
   ],
   "source": [
    "for state,capitol in data.items():\n",
    "    print(state,capitol)\n",
    "    print(type(state), type(capitol))\n",
    "    print('State Names', state)\n",
    "    print('Capitol Names', capitol)"
   ]
  },
  {
   "cell_type": "markdown",
   "id": "82ec7aff",
   "metadata": {},
   "source": [
    "### Convert dictionary to lists using `list()` function"
   ]
  },
  {
   "cell_type": "code",
   "execution_count": 49,
   "id": "afcede6e",
   "metadata": {},
   "outputs": [
    {
     "data": {
      "text/plain": [
       "{'Georgia': 'Atlanta', 'Louisiana': 'Baton Rouge'}"
      ]
     },
     "execution_count": 49,
     "metadata": {},
     "output_type": "execute_result"
    }
   ],
   "source": [
    "data"
   ]
  },
  {
   "cell_type": "code",
   "execution_count": 50,
   "id": "b85f9771",
   "metadata": {},
   "outputs": [
    {
     "name": "stdout",
     "output_type": "stream",
     "text": [
      "['Georgia', 'Louisiana']\n",
      "<class 'list'>\n"
     ]
    }
   ],
   "source": [
    "State=list(data.keys())\n",
    "print(State)\n",
    "print(type(State))"
   ]
  },
  {
   "cell_type": "code",
   "execution_count": 51,
   "id": "1513a1e3",
   "metadata": {},
   "outputs": [
    {
     "name": "stdout",
     "output_type": "stream",
     "text": [
      "('Atlanta', 'Baton Rouge')\n",
      "<class 'tuple'>\n"
     ]
    }
   ],
   "source": [
    "Capitol=tuple(data.values())\n",
    "print(Capitol)\n",
    "print(type(Capitol))"
   ]
  },
  {
   "cell_type": "markdown",
   "id": "d13131c6",
   "metadata": {},
   "source": [
    "### A List in a Dictionary"
   ]
  },
  {
   "cell_type": "code",
   "execution_count": 52,
   "id": "cd81cd95",
   "metadata": {},
   "outputs": [
    {
     "name": "stdout",
     "output_type": "stream",
     "text": [
      "{'Jen': ['Python', 'Ruby'], 'Sarah': ['C'], 'Edward': ['Ruby', 'Java'], 'Phil': ['Python', 'Haskell']}\n"
     ]
    }
   ],
   "source": [
    "favorite_languages={\n",
    "    'Jen': ['Python', 'Ruby'],\n",
    "    'Sarah': ['C'],\n",
    "    'Edward': ['Ruby', 'Java'],\n",
    "    'Phil': ['Python', 'Haskell']\n",
    "}\n",
    "print(favorite_languages)"
   ]
  },
  {
   "cell_type": "code",
   "execution_count": 53,
   "id": "1d594da7",
   "metadata": {},
   "outputs": [
    {
     "data": {
      "text/plain": [
       "['C']"
      ]
     },
     "execution_count": 53,
     "metadata": {},
     "output_type": "execute_result"
    }
   ],
   "source": [
    "favorite_languages['Sarah']"
   ]
  },
  {
   "cell_type": "code",
   "execution_count": 54,
   "id": "e9a96ec4",
   "metadata": {},
   "outputs": [
    {
     "name": "stdout",
     "output_type": "stream",
     "text": [
      "\n",
      "JEN favorite languages are: \n",
      "\t\t\tPYTHON\n",
      "\t\t\tRUBY\n",
      "\n",
      "SARAH favorite languages are: \n",
      "\t\t\tC\n",
      "\n",
      "EDWARD favorite languages are: \n",
      "\t\t\tRUBY\n",
      "\t\t\tJAVA\n",
      "\n",
      "PHIL favorite languages are: \n",
      "\t\t\tPYTHON\n",
      "\t\t\tHASKELL\n"
     ]
    }
   ],
   "source": [
    "for name,languages in favorite_languages.items():\n",
    "    print('\\n' + name.upper()+ ' favorite languages are: ')\n",
    "    \n",
    "    for i in languages:\n",
    "        print('\\t\\t\\t' + i.upper())"
   ]
  },
  {
   "cell_type": "markdown",
   "id": "7543bcaf",
   "metadata": {},
   "source": [
    "###  A Dictionary in a Dictionary"
   ]
  },
  {
   "cell_type": "code",
   "execution_count": 62,
   "id": "5716262d",
   "metadata": {},
   "outputs": [
    {
     "name": "stdout",
     "output_type": "stream",
     "text": [
      "{'einstein': {'first': 'albert', 'last': 'einstein', 'location': 'princeton'}, 'mcurie': {'first': 'marie', 'last': 'curie', 'location': 'paris'}}\n"
     ]
    }
   ],
   "source": [
    "users={ \n",
    "    'einstein': { \n",
    "        'first': 'albert', 'last': 'einstein', 'location': 'princeton', \n",
    "    }, \n",
    "    'mcurie':\n",
    "    { 'first': 'marie', 'last': 'curie', 'location': 'paris', \n",
    "    }, \n",
    "} \n",
    "print(users)"
   ]
  },
  {
   "cell_type": "code",
   "execution_count": 64,
   "id": "7aaca1c4",
   "metadata": {},
   "outputs": [
    {
     "name": "stdout",
     "output_type": "stream",
     "text": [
      "Username:  einstein\n",
      "albert einstein\n",
      "\t Full name is:  albert einstein\n",
      "\t Location is:  princeton\n",
      "Username:  mcurie\n",
      "marie curie\n",
      "\t Full name is:  marie curie\n",
      "\t Location is:  paris\n"
     ]
    }
   ],
   "source": [
    "for username, user_info in users.items(): \n",
    "    print('Username: ', username) \n",
    "    #print('User info: ', user_info) \n",
    "    full_name= user_info['first'] + ' ' +user_info['last'] \n",
    "    print(full_name)\n",
    "    location=user_info['location']\n",
    "    print('\\t Full name is: ', full_name)\n",
    "    print('\\t Location is: ', location)"
   ]
  }
 ],
 "metadata": {
  "kernelspec": {
   "display_name": "Python 3 (ipykernel)",
   "language": "python",
   "name": "python3"
  },
  "language_info": {
   "codemirror_mode": {
    "name": "ipython",
    "version": 3
   },
   "file_extension": ".py",
   "mimetype": "text/x-python",
   "name": "python",
   "nbconvert_exporter": "python",
   "pygments_lexer": "ipython3",
   "version": "3.9.12"
  }
 },
 "nbformat": 4,
 "nbformat_minor": 5
}
