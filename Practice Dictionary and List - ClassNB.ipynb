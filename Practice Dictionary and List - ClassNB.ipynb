{
 "cells": [
  {
   "cell_type": "markdown",
   "id": "bf29eaec",
   "metadata": {},
   "source": [
    "## Practice Questions Dictionary and List"
   ]
  },
  {
   "cell_type": "markdown",
   "id": "2e122459",
   "metadata": {},
   "source": [
    "### List reverse"
   ]
  },
  {
   "cell_type": "code",
   "execution_count": 1,
   "id": "d19a2eb2",
   "metadata": {},
   "outputs": [
    {
     "data": {
      "text/plain": [
       "[43, 12, 23, 45, 67, 34]"
      ]
     },
     "execution_count": 1,
     "metadata": {},
     "output_type": "execute_result"
    }
   ],
   "source": [
    "Lista=[34,67,45,23,12,43]\n",
    "\n",
    "Lista[::-1]"
   ]
  },
  {
   "cell_type": "markdown",
   "id": "b312a293",
   "metadata": {},
   "source": [
    "### Convert the lists to dictionary\n",
    "* keys = ['Ten', 'Twenty', 'Thirty']\n",
    "* values = [10, 20, 30]"
   ]
  },
  {
   "cell_type": "code",
   "execution_count": 5,
   "id": "5a3532c6",
   "metadata": {},
   "outputs": [
    {
     "data": {
      "text/plain": [
       "[('Ten', 10), ('Twenty', 20), ('Thirty', 30)]"
      ]
     },
     "execution_count": 5,
     "metadata": {},
     "output_type": "execute_result"
    }
   ],
   "source": [
    "keys = ['Ten', 'Twenty', 'Thirty']\n",
    "values = [10, 20, 30]\n",
    "list(zip(keys,values))"
   ]
  },
  {
   "cell_type": "code",
   "execution_count": 6,
   "id": "b622d9a6",
   "metadata": {},
   "outputs": [
    {
     "data": {
      "text/plain": [
       "{'Ten': 10, 'Twenty': 20, 'Thirty': 30}"
      ]
     },
     "execution_count": 6,
     "metadata": {},
     "output_type": "execute_result"
    }
   ],
   "source": [
    "dict(zip(keys,values)) #This is how convert list to dictionary"
   ]
  },
  {
   "cell_type": "code",
   "execution_count": 7,
   "id": "710e77e0",
   "metadata": {},
   "outputs": [
    {
     "data": {
      "text/plain": [
       "(('Ten', 10), ('Twenty', 20), ('Thirty', 30))"
      ]
     },
     "execution_count": 7,
     "metadata": {},
     "output_type": "execute_result"
    }
   ],
   "source": [
    "tuple(zip(keys,values)) #list to tuple"
   ]
  },
  {
   "cell_type": "markdown",
   "id": "10d3e10b",
   "metadata": {},
   "source": [
    "### Marge the following two dictionaries and keep the original dictionaries as it is\n",
    "* dict0 = {'Ten': 10, 'Twenty': 20, 'Thirty': 30}\n",
    "* dict1 = {'Thirty': 30, 'Fourty': 40, 'Fifty': 50}"
   ]
  },
  {
   "cell_type": "code",
   "execution_count": 9,
   "id": "b5dfda6b",
   "metadata": {},
   "outputs": [],
   "source": [
    "dict0 = {'Ten': 10, 'Twenty': 20, 'Thirty': 30}\n",
    "dict1 = {'Thirty': 30, 'Fourty': 40, 'Fifty': 50}"
   ]
  },
  {
   "cell_type": "code",
   "execution_count": 10,
   "id": "fd86bd02",
   "metadata": {},
   "outputs": [
    {
     "data": {
      "text/plain": [
       "{'Ten': 10, 'Twenty': 20, 'Thirty': 30}"
      ]
     },
     "execution_count": 10,
     "metadata": {},
     "output_type": "execute_result"
    }
   ],
   "source": [
    "dict2=dict0.copy()\n",
    "dict2"
   ]
  },
  {
   "cell_type": "code",
   "execution_count": 11,
   "id": "590feedf",
   "metadata": {},
   "outputs": [
    {
     "data": {
      "text/plain": [
       "{'Ten': 10, 'Twenty': 20, 'Thirty': 30, 'Fourty': 40, 'Fifty': 50}"
      ]
     },
     "execution_count": 11,
     "metadata": {},
     "output_type": "execute_result"
    }
   ],
   "source": [
    "dict2.update(dict1)\n",
    "dict2"
   ]
  },
  {
   "cell_type": "markdown",
   "id": "0ce25abc",
   "metadata": {},
   "source": [
    "### Access 70 from dictionary\n",
    " * Dict3 = { \"class\":{ \"student\":{ \"subject\":{ \"physics\":70,\"history\":80}}}}"
   ]
  },
  {
   "cell_type": "code",
   "execution_count": 13,
   "id": "03b473f6",
   "metadata": {},
   "outputs": [
    {
     "data": {
      "text/plain": [
       "{'class': {'student': {'subject': {'physics': 70, 'history': 80}}}}"
      ]
     },
     "execution_count": 13,
     "metadata": {},
     "output_type": "execute_result"
    }
   ],
   "source": [
    "Dict3 = { \"class\":{ \"student\":{ \"subject\":{ \"physics\":70,\"history\":80}}}}\n",
    "Dict3"
   ]
  },
  {
   "cell_type": "code",
   "execution_count": 14,
   "id": "f4346b0b",
   "metadata": {},
   "outputs": [
    {
     "data": {
      "text/plain": [
       "70"
      ]
     },
     "execution_count": 14,
     "metadata": {},
     "output_type": "execute_result"
    }
   ],
   "source": [
    "Dict3['class']['student']['subject']['physics']"
   ]
  },
  {
   "cell_type": "markdown",
   "id": "56ba4a6d",
   "metadata": {},
   "source": [
    " Dict4 = {\n",
    "  \"name\": \"Mark\",\n",
    "  \"age\":21,\n",
    "  \"College\": \"Junior\",\n",
    "  \"city\": \"Atlanta\"}\n",
    " * Extract keys = [\"name\", \"city\"]\n",
    " * Expecte output: {'name': 'Mark', 'city': 'Atlanta'}\n",
    " "
   ]
  },
  {
   "cell_type": "code",
   "execution_count": 18,
   "id": "bfc5e6f7",
   "metadata": {},
   "outputs": [
    {
     "name": "stdout",
     "output_type": "stream",
     "text": [
      "{'name': 'Mark'}\n",
      "{'city': 'Atlanta'}\n"
     ]
    }
   ],
   "source": [
    "Dict4 = { \"name\": \"Mark\", \"age\":21, \"College\": \"Junior\", \"city\": \"Atlanta\"}\n",
    "keys=['name', 'city']\n",
    "for K in keys:\n",
    "    print({K:Dict4[K]})"
   ]
  },
  {
   "cell_type": "markdown",
   "id": "85656c3d",
   "metadata": {},
   "source": [
    "### Dict7 = {'a': 100, 'b': 200, 'c': 300}\n",
    " * Check if value 200 is present or not "
   ]
  },
  {
   "cell_type": "code",
   "execution_count": 21,
   "id": "bc741055",
   "metadata": {},
   "outputs": [
    {
     "name": "stdout",
     "output_type": "stream",
     "text": [
      "True\n"
     ]
    }
   ],
   "source": [
    "Dict7 = {'a': 100, 'b': 200, 'c': 300}\n",
    "print(200 in Dict7.values())"
   ]
  },
  {
   "cell_type": "code",
   "execution_count": 22,
   "id": "0cf62cd3",
   "metadata": {},
   "outputs": [
    {
     "name": "stdout",
     "output_type": "stream",
     "text": [
      "False\n"
     ]
    }
   ],
   "source": [
    "print(400 in Dict7.values())"
   ]
  },
  {
   "cell_type": "markdown",
   "id": "5b60bfb1",
   "metadata": {},
   "source": [
    "### check the key 'c' is present in the dict or not"
   ]
  },
  {
   "cell_type": "code",
   "execution_count": 23,
   "id": "948e3631",
   "metadata": {},
   "outputs": [
    {
     "name": "stdout",
     "output_type": "stream",
     "text": [
      "True\n"
     ]
    }
   ],
   "source": [
    "print('c' in Dict7.keys())"
   ]
  },
  {
   "cell_type": "markdown",
   "id": "3f28f383",
   "metadata": {},
   "source": [
    "###  Update Brad’s salary to 7500 \n",
    "* sampleDict = {\n",
    "     'emp1': {'name': 'Jhon', 'salary': 5500},\n",
    "     'emp2': {'name': 'Emma', 'salary': 7000},\n",
    "     'emp3': {'name': 'Brad', 'salary': 6500}\n",
    "}"
   ]
  },
  {
   "cell_type": "code",
   "execution_count": 34,
   "id": "42395758",
   "metadata": {},
   "outputs": [
    {
     "data": {
      "text/plain": [
       "{'emp1': {'name': 'John', 'salary': 5500},\n",
       " 'emp2': {'name': 'Emma', 'salary': 7000},\n",
       " 'emp3': {'name': 'Brad', 'salary': 6500}}"
      ]
     },
     "execution_count": 34,
     "metadata": {},
     "output_type": "execute_result"
    }
   ],
   "source": [
    "sampleDict = {\n",
    "    'emp1': {\n",
    "        'name': 'John', 'salary': 5500\n",
    "    }, \n",
    "    'emp2': {\n",
    "        'name': 'Emma', 'salary': 7000\n",
    "    }, \n",
    "    'emp3': {\n",
    "    'name': 'Brad', 'salary': 6500\n",
    "    } \n",
    "}\n",
    "sampleDict"
   ]
  },
  {
   "cell_type": "code",
   "execution_count": 35,
   "id": "a6364ddd",
   "metadata": {},
   "outputs": [
    {
     "data": {
      "text/plain": [
       "6500"
      ]
     },
     "execution_count": 35,
     "metadata": {},
     "output_type": "execute_result"
    }
   ],
   "source": [
    "sampleDict['emp3']['salary']"
   ]
  },
  {
   "cell_type": "markdown",
   "id": "8a44a9fd",
   "metadata": {},
   "source": [
    "### Find who is younger\n",
    "Dict9 = {\n",
    "  'Sam': 82,\n",
    "  'Harry': 65,\n",
    "  'Jack': 75\n",
    "}"
   ]
  },
  {
   "cell_type": "code",
   "execution_count": 30,
   "id": "6fda5fce",
   "metadata": {},
   "outputs": [
    {
     "data": {
      "text/plain": [
       "{'Sam': 82, 'Harry': 65, 'Jack': 75}"
      ]
     },
     "execution_count": 30,
     "metadata": {},
     "output_type": "execute_result"
    }
   ],
   "source": [
    "Dict9 = { 'Sam': 82, 'Harry': 65, 'Jack': 75 }\n",
    "Dict9"
   ]
  },
  {
   "cell_type": "code",
   "execution_count": 32,
   "id": "1fae8c37",
   "metadata": {},
   "outputs": [
    {
     "name": "stdout",
     "output_type": "stream",
     "text": [
      "65\n"
     ]
    }
   ],
   "source": [
    "temp=min(Dict9.values())\n",
    "print(temp)"
   ]
  },
  {
   "cell_type": "code",
   "execution_count": 33,
   "id": "b91c6081",
   "metadata": {},
   "outputs": [
    {
     "name": "stdout",
     "output_type": "stream",
     "text": [
      "Harry\n"
     ]
    }
   ],
   "source": [
    "for key in Dict9:\n",
    "    if Dict9[key]==temp:\n",
    "        print(key)"
   ]
  },
  {
   "cell_type": "code",
   "execution_count": 38,
   "id": "cc5fe023",
   "metadata": {},
   "outputs": [
    {
     "name": "stdout",
     "output_type": "stream",
     "text": [
      "Sam\n"
     ]
    }
   ],
   "source": [
    "temp2=max(Dict9.values())\n",
    "for value in Dict9:\n",
    "    if Dict9[value]==temp2:\n",
    "        print(value)"
   ]
  },
  {
   "cell_type": "markdown",
   "id": "131bf3b1",
   "metadata": {},
   "source": [
    "### Update **city to location**\n",
    " Dict10 = {\n",
    "  \"name\": \"Mark\",\n",
    "  \"age\":21,\n",
    "  \"College\": \"Junior\",\n",
    "  \"city\": \"Atlanta\"}\n"
   ]
  },
  {
   "cell_type": "code",
   "execution_count": 48,
   "id": "a89051ea",
   "metadata": {},
   "outputs": [
    {
     "data": {
      "text/plain": [
       "{'name': 'Mark', 'age': 21, 'College': 'Junior', 'city': 'Atlanta'}"
      ]
     },
     "execution_count": 48,
     "metadata": {},
     "output_type": "execute_result"
    }
   ],
   "source": [
    "Dict10 = { \"name\": \"Mark\", \"age\":21, \"College\": \"Junior\", \"city\": \"Atlanta\"}\n",
    "Dict10"
   ]
  },
  {
   "cell_type": "code",
   "execution_count": 51,
   "id": "4b0b4f3f",
   "metadata": {},
   "outputs": [
    {
     "data": {
      "text/plain": [
       "{'name': 'Mark', 'age': 21, 'College': 'Junior', 'location': 'Atlanta'}"
      ]
     },
     "execution_count": 51,
     "metadata": {},
     "output_type": "execute_result"
    }
   ],
   "source": [
    "Dict10['location']=Dict10.pop('city')\n",
    "Dict10"
   ]
  }
 ],
 "metadata": {
  "kernelspec": {
   "display_name": "Python 3 (ipykernel)",
   "language": "python",
   "name": "python3"
  },
  "language_info": {
   "codemirror_mode": {
    "name": "ipython",
    "version": 3
   },
   "file_extension": ".py",
   "mimetype": "text/x-python",
   "name": "python",
   "nbconvert_exporter": "python",
   "pygments_lexer": "ipython3",
   "version": "3.9.12"
  }
 },
 "nbformat": 4,
 "nbformat_minor": 5
}
